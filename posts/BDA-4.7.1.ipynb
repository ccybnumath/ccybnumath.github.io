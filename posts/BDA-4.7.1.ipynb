{
 "cells": [
  {
   "cell_type": "markdown",
   "metadata": {},
   "source": [
    "(b) Find the posterior mode of $\\theta$ by iteratively solving the equation determined by setting\n",
    "the derivative of the log-likelihood to zero."
   ]
  },
  {
   "cell_type": "code",
   "execution_count": 11,
   "metadata": {},
   "outputs": [
    {
     "name": "stdout",
     "output_type": "stream",
     "text": [
      "[1] -0.1376493\n"
     ]
    }
   ],
   "source": [
    "y <- c(-2,-1,0,1.5,2.5)\n",
    "\n",
    "theta0 <- mean(y)\n",
    "\n",
    "threshold <- 1e-6\n",
    "\n",
    "repeat{\n",
    "    f <- sum(2*(y-theta0)/(1+(theta0-y)^2))\n",
    "    Df <- sum(2*((theta0-y)^2-1)/(1+(theta0-y)^2)^2)\n",
    "    theta <- theta0 - f/Df\n",
    "    epsilon <- abs(theta0-theta)\n",
    "    theta0 <- theta\n",
    "    if(epsilon<threshold) break\n",
    "}\n",
    "\n",
    "print(theta0)"
   ]
  },
  {
   "cell_type": "code",
   "execution_count": null,
   "metadata": {},
   "outputs": [],
   "source": []
  },
  {
   "cell_type": "code",
   "execution_count": null,
   "metadata": {},
   "outputs": [],
   "source": []
  },
  {
   "cell_type": "code",
   "execution_count": null,
   "metadata": {},
   "outputs": [],
   "source": []
  }
 ],
 "metadata": {
  "kernelspec": {
   "display_name": "R",
   "language": "R",
   "name": "ir"
  },
  "language_info": {
   "codemirror_mode": "r",
   "file_extension": ".r",
   "mimetype": "text/x-r-source",
   "name": "R",
   "pygments_lexer": "r",
   "version": "3.4.4"
  },
  "nikola": {
   "category": "",
   "date": "2019-03-26 19:13:40 UTC+08:00",
   "description": "",
   "link": "",
   "slug": "bda-471",
   "tags": "",
   "title": "BDA 4.7.1",
   "type": "text"
  }
 },
 "nbformat": 4,
 "nbformat_minor": 2
}
